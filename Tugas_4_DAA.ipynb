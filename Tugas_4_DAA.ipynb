{
  "nbformat": 4,
  "nbformat_minor": 0,
  "metadata": {
    "colab": {
      "provenance": []
    },
    "kernelspec": {
      "name": "python3",
      "display_name": "Python 3"
    },
    "language_info": {
      "name": "python"
    }
  },
  "cells": [
    {
      "cell_type": "code",
      "execution_count": 3,
      "metadata": {
        "colab": {
          "base_uri": "https://localhost:8080/"
        },
        "id": "4U2LkX788mfz",
        "outputId": "bdf2d51a-fb81-4852-a604-2df59e31850e"
      },
      "outputs": [
        {
          "output_type": "stream",
          "name": "stdout",
          "text": [
            "2 1\n"
          ]
        }
      ],
      "source": [
        "#swab function\n",
        "var1 = 1\n",
        "var2 = 2\n",
        "var1, var2 = var2, var1\n",
        "\n",
        "print(var1,var2)"
      ]
    },
    {
      "cell_type": "code",
      "source": [
        "#swab function\n",
        "var1 = 1\n",
        "var2 = 2\n",
        "var3 = 3\n",
        "var1,var2,var3 = var3, var2, var1\n",
        "\n",
        "print(var1,var2,var3)"
      ],
      "metadata": {
        "colab": {
          "base_uri": "https://localhost:8080/"
        },
        "id": "uqYFgKgg9cI8",
        "outputId": "c2e8df2d-7f1f-46f7-f264-14cb090449e7"
      },
      "execution_count": 4,
      "outputs": [
        {
          "output_type": "stream",
          "name": "stdout",
          "text": [
            "3 2 1\n"
          ]
        }
      ]
    },
    {
      "cell_type": "code",
      "source": [
        "def bubble_sort(arr):\n",
        "    n = len(arr)\n",
        "    for i in range(n):\n",
        "        for j in range(0, n-i-1):\n",
        "            if arr[j] > arr[j+1]:\n",
        "                arr[j], arr[j+1] = arr[j+1], arr[j]\n",
        "\n",
        "arr = [100, 20, 60, 90, 40, 30, 10]\n",
        "\n",
        "bubble_sort(arr)\n",
        "\n",
        "print(\"Deret bilangan setelah diurutkan:\")\n",
        "print(arr)\n"
      ],
      "metadata": {
        "colab": {
          "base_uri": "https://localhost:8080/"
        },
        "id": "dyBJVP8b-eit",
        "outputId": "e4c7e8cf-d568-41e4-9da3-97df6d473b6a"
      },
      "execution_count": 5,
      "outputs": [
        {
          "output_type": "stream",
          "name": "stdout",
          "text": [
            "Deret bilangan setelah diurutkan:\n",
            "[10, 20, 30, 40, 60, 90, 100]\n"
          ]
        }
      ]
    },
    {
      "cell_type": "code",
      "source": [
        "def insertion_sort(arr):\n",
        "    for i in range(1, len(arr)):\n",
        "        key = arr[i]\n",
        "        j = i - 1\n",
        "        while j >= 0 and key < arr[j]:\n",
        "            arr[j + 1] = arr[j]\n",
        "            j -= 1\n",
        "        arr[j + 1] = key\n",
        "\n",
        "arr = [89, 12, 57, 16, 25, 11, 75]\n",
        "\n",
        "insertion_sort(arr)\n",
        "\n",
        "print(\"Deret bilangan setelah diurutkan:\")\n",
        "print(arr)\n"
      ],
      "metadata": {
        "colab": {
          "base_uri": "https://localhost:8080/"
        },
        "id": "arBLfq2TM4-S",
        "outputId": "a75a7aba-ae24-4b29-9fcc-5d34e89f795f"
      },
      "execution_count": 6,
      "outputs": [
        {
          "output_type": "stream",
          "name": "stdout",
          "text": [
            "Deret bilangan setelah diurutkan:\n",
            "[11, 12, 16, 25, 57, 75, 89]\n"
          ]
        }
      ]
    },
    {
      "cell_type": "code",
      "source": [
        "def selection_sort(arr):\n",
        "    n = len(arr)\n",
        "    for i in range(n):\n",
        "        min_idx = i\n",
        "        for j in range(i+1, n):\n",
        "            if arr[j] < arr[min_idx]:\n",
        "                min_idx = j\n",
        "\n",
        "        arr[i], arr[min_idx] = arr[min_idx], arr[i]\n",
        "\n",
        "# Deret bilangan yang akan diurutkan\n",
        "arr = [89, 12, 57, 16, 25]\n",
        "\n",
        "selection_sort(arr)\n",
        "\n",
        "print(\"Deret bilangan setelah diurutkan:\")\n",
        "print(arr)\n"
      ],
      "metadata": {
        "colab": {
          "base_uri": "https://localhost:8080/"
        },
        "id": "JRbCD0lWNoYX",
        "outputId": "1ef46a4a-cee3-470a-e6bf-01123c16b13f"
      },
      "execution_count": 7,
      "outputs": [
        {
          "output_type": "stream",
          "name": "stdout",
          "text": [
            "Deret bilangan setelah diurutkan:\n",
            "[12, 16, 25, 57, 89]\n"
          ]
        }
      ]
    },
    {
      "cell_type": "code",
      "source": [
        "def linear_search(arr, target):\n",
        "    for i in range(len(arr)):\n",
        "        if arr[i] == target:\n",
        "            return i\n",
        "    return -1\n",
        "\n",
        "arr = ['y', 'u', 'i', 'w', 'o', 'a', 'q', 'u', 'j', 'p']\n",
        "\n",
        "target = 'a'\n",
        "\n",
        "result = linear_search(arr, target)\n",
        "\n",
        "if result != -1:\n",
        "    print(f\"'{target}' ditemukan di indeks {result}\")\n",
        "else:\n",
        "    print(f\"'{target}' tidak ditemukan dalam deret\")\n"
      ],
      "metadata": {
        "colab": {
          "base_uri": "https://localhost:8080/"
        },
        "id": "_nI_faANOS8S",
        "outputId": "f63adb93-c4fc-4e5b-8414-c6c743c90c65"
      },
      "execution_count": 8,
      "outputs": [
        {
          "output_type": "stream",
          "name": "stdout",
          "text": [
            "'a' ditemukan di indeks 5\n"
          ]
        }
      ]
    },
    {
      "cell_type": "code",
      "source": [
        "def binary_search(arr, target):\n",
        "    left, right = 0, len(arr) - 1\n",
        "\n",
        "    while left <= right:\n",
        "        mid = (left + right) // 2\n",
        "        if arr[mid] == target:\n",
        "            return mid\n",
        "        elif arr[mid] < target:\n",
        "            left = mid + 1\n",
        "        else:\n",
        "            right = mid - 1\n",
        "\n",
        "    return -1\n",
        "\n",
        "arr = ['y', 'u', 'i', 'w', 'o', 'a', 'q', 'u', 'j', 'p']\n",
        "\n",
        "arr.sort()\n",
        "\n",
        "target = 'a'\n",
        "\n",
        "result = binary_search(arr, target)\n",
        "\n",
        "if result != -1:\n",
        "    print(f\"'{target}' ditemukan di indeks {result}\")\n",
        "else:\n",
        "    print(f\"'{target}' tidak ditemukan dalam deret\")\n"
      ],
      "metadata": {
        "colab": {
          "base_uri": "https://localhost:8080/"
        },
        "id": "UtLrW48SPjhP",
        "outputId": "cc24b271-63f7-4dc4-be1a-2d3a8db249ac"
      },
      "execution_count": 9,
      "outputs": [
        {
          "output_type": "stream",
          "name": "stdout",
          "text": [
            "'a' ditemukan di indeks 0\n"
          ]
        }
      ]
    },
    {
      "cell_type": "code",
      "source": [
        "def interpolation_search(arr, target):\n",
        "    left, right = 0, len(arr) - 1\n",
        "\n",
        "    while left <= right and arr[left] <= target <= arr[right]:\n",
        "        if left == right:\n",
        "            if arr[left] == target:\n",
        "                return left\n",
        "            else:\n",
        "                return -1\n",
        "\n",
        "        pos = left + ((target - arr[left]) * (right - left)) // (arr[right] - arr[left])\n",
        "\n",
        "        if arr[pos] == target:\n",
        "            return pos\n",
        "        elif arr[pos] < target:\n",
        "            left = pos + 1\n",
        "        else:\n",
        "            right = pos - 1\n",
        "\n",
        "    return -1\n",
        "\n",
        "arr = ['y', 'u', 'i', 'w', 'o', 'a', 'q', 'u', 'j', 'p']\n",
        "\n",
        "target = 'u'\n",
        "\n",
        "result = interpolation_search(arr, target)\n",
        "\n",
        "if result != -1:\n",
        "    print(f\"'{target}' ditemukan di indeks {result}\")\n",
        "else:\n",
        "    print(f\"'{target}' tidak ditemukan dalam deret\")\n"
      ],
      "metadata": {
        "colab": {
          "base_uri": "https://localhost:8080/"
        },
        "id": "-E9bOzioQKHd",
        "outputId": "2758b743-46ad-4fcd-c2f4-c1c2a6c7cf17"
      },
      "execution_count": 10,
      "outputs": [
        {
          "output_type": "stream",
          "name": "stdout",
          "text": [
            "'u' tidak ditemukan dalam deret\n"
          ]
        }
      ]
    }
  ]
}