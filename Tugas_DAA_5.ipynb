{
  "nbformat": 4,
  "nbformat_minor": 0,
  "metadata": {
    "colab": {
      "provenance": []
    },
    "kernelspec": {
      "name": "python3",
      "display_name": "Python 3"
    },
    "language_info": {
      "name": "python"
    }
  },
  "cells": [
    {
      "cell_type": "code",
      "execution_count": null,
      "metadata": {
        "colab": {
          "base_uri": "https://localhost:8080/"
        },
        "id": "qG4RNmlWD-jz",
        "outputId": "0f4745f3-94c8-402e-cc12-97472f80a0a3"
      },
      "outputs": [
        {
          "output_type": "stream",
          "name": "stdout",
          "text": [
            "6\n"
          ]
        }
      ],
      "source": [
        "# Hitung Inversi\n",
        "\n",
        "def countInversion(arr):\n",
        "    result = 0\n",
        "    for i in range(len(arr)):\n",
        "        for j in range(i + 1, len(arr)):\n",
        "            if arr[i] > arr[j]:\n",
        "                result += 1\n",
        "    return result\n",
        "\n",
        "arr = [21, 70, 36, 14, 25]\n",
        "\n",
        "result = countInversion(arr)\n",
        "print(result)\n"
      ]
    },
    {
      "cell_type": "code",
      "source": [
        "def countInversion(arr):\n",
        "    icount = 0\n",
        "    if len(arr)<= 1:\n",
        "        return icount\n",
        "\n",
        "    mid = len(arr)//2\n",
        "    left=arr[:mid]\n",
        "    right=arr[mid:]\n",
        "    icount+=countInversion(left)\n",
        "    icount+=countInversion(right)\n",
        "    i=j=k=0\n",
        "    #print(left)\n",
        "    #print(right)\n",
        "    while i<len(left) and j<len(right):\n",
        "        if left[i]<right[j]:\n",
        "            arr[k] = left[i]\n",
        "            i+=1\n",
        "        else:\n",
        "            #print(left[i],right[j])\n",
        "            arr[k] = right[j]\n",
        "            j+=1\n",
        "            icount += (mid - i)\n",
        "        k += 1\n",
        "    while i < len(left):\n",
        "        arr[k]=left[i]\n",
        "        i+=1\n",
        "        k+=1\n",
        "    while j<len(right):\n",
        "        arr[k]=right[j]\n",
        "        j+=1\n",
        "        k+=1\n",
        "    return icount\n",
        "\n",
        "arr = [1, 20, 6, 4, 5]\n",
        "result = countInversion(arr)\n",
        "print(result)"
      ],
      "metadata": {
        "colab": {
          "base_uri": "https://localhost:8080/"
        },
        "id": "hSVdIWv9KPYR",
        "outputId": "ad4cf323-0949-4287-bb2c-933d89feab88"
      },
      "execution_count": null,
      "outputs": [
        {
          "output_type": "stream",
          "name": "stdout",
          "text": [
            "5\n"
          ]
        }
      ]
    },
    {
      "cell_type": "code",
      "source": [
        "# Tanpa divide dan conquer\n",
        "\n",
        "def maxSubSum(arr):\n",
        "    max_so_far = arr[0]\n",
        "    max_ending_here = arr[0]\n",
        "\n",
        "    for i in range(1, len(arr)):\n",
        "        max_ending_here = max(arr[i], max_ending_here + arr[i])\n",
        "        max_so_far = max(max_so_far, max_ending_here)\n",
        "\n",
        "    return max_so_far\n",
        "\n",
        "arr = [-2, -5, 6, -2, -3, 1, 5, -6]\n",
        "result = maxSubSum(arr)\n",
        "print(result)\n"
      ],
      "metadata": {
        "colab": {
          "base_uri": "https://localhost:8080/"
        },
        "id": "mAVZRFqv9Iy6",
        "outputId": "fcecac4e-df5b-41e5-cd5f-dc520e14d4ab"
      },
      "execution_count": null,
      "outputs": [
        {
          "output_type": "stream",
          "name": "stdout",
          "text": [
            "7\n"
          ]
        }
      ]
    },
    {
      "cell_type": "code",
      "source": [
        "# total semua element list\n",
        "\n",
        "arr= [3, 7, 5, 2, 1, 8, 9]\n",
        "total = 0\n",
        "for i in range(len(arr)):\n",
        "  total = total+arr[i];\n",
        "\n",
        "print(total)"
      ],
      "metadata": {
        "colab": {
          "base_uri": "https://localhost:8080/"
        },
        "id": "jBi1vGli-J93",
        "outputId": "d5547913-3ff6-4979-dd1f-f1593c4b199b"
      },
      "execution_count": null,
      "outputs": [
        {
          "output_type": "stream",
          "name": "stdout",
          "text": [
            "35\n"
          ]
        }
      ]
    },
    {
      "cell_type": "code",
      "source": [
        "# Tabel A\n",
        "A = [4, 12, 23, 9, 21, 1, 35, 2, 24]\n",
        "\n",
        "# Inisialisasi nilai minimum dan maksimum dengan nilai pertama dalam tabel\n",
        "minimum = A[0]\n",
        "maksimum = A[0]\n",
        "\n",
        "# Iterasi melalui tabel untuk mencari nilai minimum dan maksimum\n",
        "for nilai in A:\n",
        "    if nilai < minimum:\n",
        "        minimum = nilai\n",
        "    if nilai > maksimum:\n",
        "        maksimum = nilai\n",
        "\n",
        "# Hasilnya\n",
        "print(\"Nilai Minimum:\", minimum)\n",
        "print(\"Nilai Maksimum:\", maksimum)\n"
      ],
      "metadata": {
        "colab": {
          "base_uri": "https://localhost:8080/"
        },
        "id": "mNSLI1Jl-jCg",
        "outputId": "457e5372-22fb-481a-c0ce-088db2d8d01c"
      },
      "execution_count": null,
      "outputs": [
        {
          "output_type": "stream",
          "name": "stdout",
          "text": [
            "Nilai Minimum: 1\n",
            "Nilai Maksimum: 35\n"
          ]
        }
      ]
    },
    {
      "cell_type": "code",
      "source": [
        "def divideAndConquer_Max(arr, ind, length):\n",
        "    maximum = -1\n",
        "\n",
        "    if ind >= length - 2:\n",
        "        if arr[ind] > arr[ind + 1]:\n",
        "            return arr[ind]\n",
        "        else:\n",
        "            return arr[ind + 1]\n",
        "\n",
        "    maximum = divideAndConquer_Max(arr, ind + 1, length)\n",
        "\n",
        "    if arr[ind] > maximum:\n",
        "        return arr[ind]\n",
        "    else:\n",
        "        return maximum\n",
        "\n",
        "def divideAndConquer_Min(arr, ind, length):\n",
        "    minimum = 0\n",
        "\n",
        "    if ind >= length - 2:\n",
        "        if arr[ind] < arr[ind + 1]:\n",
        "            return arr[ind]\n",
        "        else:\n",
        "            return arr[ind + 1]\n",
        "\n",
        "    minimum = divideAndConquer_Min(arr, ind + 1, length)\n",
        "\n",
        "    if arr[ind] < minimum:\n",
        "        return arr[ind]\n",
        "    else:\n",
        "        return minimum\n",
        "\n",
        "if __name__ == '__main__':\n",
        "    minimum, maximum = 0, -1\n",
        "\n",
        "    # Inisialisasi array\n",
        "    arr = [4, 12, 23, 9, 21, 1, 35, 2, 24]\n",
        "\n",
        "    # Mendapatkan nilai minimum dan maksimum dengan fungsi divide and conquer\n",
        "    minimum = divideAndConquer_Min(arr, 0, len(arr))\n",
        "    maximum = divideAndConquer_Max(arr, 0, len(arr))\n",
        "\n",
        "    print(\"Nilai minimum dalam array adalah:\", minimum)\n",
        "    print(\"Nilai maksimum dalam array adalah:\", maximum)\n"
      ],
      "metadata": {
        "colab": {
          "base_uri": "https://localhost:8080/"
        },
        "id": "YavVEWgKA_1o",
        "outputId": "1cd633e6-4798-4e2b-f780-5e61e2123734"
      },
      "execution_count": null,
      "outputs": [
        {
          "output_type": "stream",
          "name": "stdout",
          "text": [
            "Nilai minimum dalam array adalah: 1\n",
            "Nilai maksimum dalam array adalah: 35\n"
          ]
        }
      ]
    },
    {
      "cell_type": "code",
      "source": [
        "def mergeSort(array):\n",
        "    if len(array) > 1:\n",
        "\n",
        "#r is the point where the array is divided into two subarrays\n",
        "        r = len(array)//2\n",
        "        L = array[:r]\n",
        "        M = array[r:]\n",
        "\n",
        "        #Sort the two halves\n",
        "        mergeSort(L)\n",
        "        mergeSort(M)\n",
        "\n",
        "        i = j = k = 0\n",
        "\n",
        "        #until we reach either end of either L or M, pick larger among\n",
        "        #elements L and M and place them in the correct position at A[p..r]\n",
        "        while i < len(L) and j < len(M) :\n",
        "            if L[i] < M[j]:\n",
        "                array[k] = L[i]\n",
        "                i += 1\n",
        "            else:\n",
        "                array[k] = M[j]\n",
        "                j += 1\n",
        "            k += 1\n",
        "\n",
        "        #when we run out of elements in either L or M,\n",
        "        #pick up the remaining elements and put in A[p..r]\n",
        "        while i < len(L) :\n",
        "            array[k] = L[i]\n",
        "            i += 1\n",
        "            k += 1\n",
        "\n",
        "        while j < len(M):\n",
        "            array[k] = M[j]\n",
        "            j += 1\n",
        "            k += 1\n",
        "\n",
        "#Print the array\n",
        "def printList(array):\n",
        "    for i in range(len(array)):\n",
        "        print(array[i], end=\" \")\n",
        "    print()\n",
        "\n",
        "\n",
        "#Driver program\n",
        "if __name__ == '__main__':\n",
        "    array = [4,12,23,9,21,1,35,2,24]\n",
        "\n",
        "    mergeSort(array)\n",
        "\n",
        "    print(\"Sorted array is: \")\n",
        "    printList(array)"
      ],
      "metadata": {
        "colab": {
          "base_uri": "https://localhost:8080/"
        },
        "id": "AKNWvQdxSuIL",
        "outputId": "809278fc-14a6-4766-b653-b0828d063aba"
      },
      "execution_count": null,
      "outputs": [
        {
          "output_type": "stream",
          "name": "stdout",
          "text": [
            "Sorted array is: \n",
            "1 2 4 9 12 21 23 24 35 \n"
          ]
        }
      ]
    },
    {
      "cell_type": "code",
      "source": [
        "# Function to find the partition position\n",
        "def partition(array, low, high):\n",
        "    # choose the rightmost element as pivot\n",
        "    pivot = array[high]\n",
        "    # pointer for greater element\n",
        "    i = low - 1\n",
        "    # traverse through all elements\n",
        "    for j in range(low, high):\n",
        "        if array[j] <= pivot:\n",
        "            # if element smaller than pivot is found\n",
        "            # swap it with the greater element pointed by i\n",
        "            i = i + 1\n",
        "            # Swapping element at i with element at j\n",
        "            (array[i], array[j]) = (array[j], array[i])\n",
        "    # Swap the pivot element with the greater element specified by i\n",
        "    (array[i + 1], array[high]) = (array[high], array[i + 1])\n",
        "    # Return the position from where partition is done\n",
        "    return i + 1\n",
        "\n",
        "# function to perform quicksort\n",
        "def quickSort(array, low, high):\n",
        "    if low < high:\n",
        "        # find pivot element such that\n",
        "        # element smaller than pivot are on the left\n",
        "        # element greater than pivot are on the right\n",
        "        pi = partition(array, low, high)\n",
        "        # Recursive call on the left of pivot\n",
        "        quickSort(array, low, pi - 1)  # Change pi, - 1\n",
        "        # Recursive call on the right of pivot\n",
        "        quickSort(array, pi + 1, high)\n",
        "\n",
        "data = [4, 12, 23, 9, 21, 1, 35, 2, 24]\n",
        "print(\"Unsorted Array:\")\n",
        "print(data)\n",
        "\n",
        "size = len(data)\n",
        "\n",
        "quickSort(data, 0, size - 1)\n",
        "\n",
        "print('Sorted Array in Ascending order:')\n",
        "print(data)\n"
      ],
      "metadata": {
        "colab": {
          "base_uri": "https://localhost:8080/"
        },
        "id": "GAO1ngtKTQxT",
        "outputId": "a09eb4db-b752-4d84-b099-13224a856fb3"
      },
      "execution_count": null,
      "outputs": [
        {
          "output_type": "stream",
          "name": "stdout",
          "text": [
            "Unsorted Array:\n",
            "[4, 12, 23, 9, 21, 1, 35, 2, 24]\n",
            "Sorted Array in Ascending order:\n",
            "[1, 2, 4, 9, 12, 21, 23, 24, 35]\n"
          ]
        }
      ]
    },
    {
      "cell_type": "code",
      "source": [
        "def maxSubSum(arr):\n",
        "    max_so_far = 0\n",
        "    max_ending_here = 0\n",
        "\n",
        "    for i in range(len(arr)):\n",
        "        max_ending_here += arr[i]\n",
        "        if max_ending_here > max_so_far:\n",
        "            max_so_far = max_ending_here\n",
        "        if max_ending_here < 0:\n",
        "            max_ending_here = 0\n",
        "\n",
        "    return max_so_far\n",
        "\n",
        "arr = [-2, -5, 6, -2, -3, 1, 5, -6]\n",
        "result = maxSubSum(arr)\n",
        "print(result)\n"
      ],
      "metadata": {
        "colab": {
          "base_uri": "https://localhost:8080/"
        },
        "id": "kYY4zasbW1Su",
        "outputId": "9cfecd8f-1ecc-43e4-b7f5-768feaab1016"
      },
      "execution_count": null,
      "outputs": [
        {
          "output_type": "stream",
          "name": "stdout",
          "text": [
            "7\n"
          ]
        }
      ]
    },
    {
      "cell_type": "code",
      "source": [
        "def maxCrossingSum(arr, low, mid, high):\n",
        "    leftSum = float('-infinity')\n",
        "    result = 0\n",
        "\n",
        "    # Menghitung jumlah maksimum di sebelah kiri tengah\n",
        "    for i in range(mid, low - 1, -1):\n",
        "        result += arr[i]\n",
        "        if result > leftSum:\n",
        "            leftSum = result\n",
        "\n",
        "    rightSum = float('-infinity')\n",
        "    result = 0\n",
        "\n",
        "    # Menghitung jumlah maksimum di sebelah kanan tengah\n",
        "    for i in range(mid + 1, high + 1):\n",
        "        result += arr[i]\n",
        "        if result > rightSum:\n",
        "            rightSum = result\n",
        "\n",
        "    # Mengembalikan jumlah maksimum yang melibatkan elemen tengah\n",
        "    return leftSum + rightSum\n",
        "\n",
        "def maxSum(arr, low, high):\n",
        "    if low == high:\n",
        "        return arr[low]\n",
        "\n",
        "    mid = (low + high) // 2\n",
        "\n",
        "    # Mencari jumlah maksimum di subarray kiri\n",
        "    leftMax = maxSum(arr, low, mid)\n",
        "\n",
        "    # Mencari jumlah maksimum di subarray kanan\n",
        "    rightMax = maxSum(arr, mid + 1, high)\n",
        "\n",
        "    # Mencari jumlah maksimum yang melibatkan elemen tengah\n",
        "    crossingMax = maxCrossingSum(arr, low, mid, high)\n",
        "\n",
        "    # Mengembalikan jumlah maksimum dari ketiga kasus di atas\n",
        "    return max(leftMax, rightMax, crossingMax)\n",
        "\n",
        "arr = [-2, -5, 6, -2, -3, 1, 5, -6]\n",
        "result = maxSum(arr, 0, len(arr) - 1)\n",
        "print(\"Jumlah maksimum subarray adalah:\", result)\n"
      ],
      "metadata": {
        "colab": {
          "base_uri": "https://localhost:8080/"
        },
        "id": "GZVgu-eqX4QE",
        "outputId": "be53cb38-8253-4758-977e-7be9bbf415aa"
      },
      "execution_count": null,
      "outputs": [
        {
          "output_type": "stream",
          "name": "stdout",
          "text": [
            "Jumlah maksimum subarray adalah: 7\n"
          ]
        }
      ]
    },
    {
      "cell_type": "code",
      "source": [
        "def longestCommonPrefix( a):\n",
        "\n",
        "  size = len(a)\n",
        "\n",
        "  #if size is 0, return empty string\n",
        "  if (size == 0):\n",
        "    return \"\"\n",
        "\n",
        "  if (size == 1):\n",
        "    return a[0]\n",
        "\n",
        "  # sort the array of strings\n",
        "  a.sort()\n",
        "\n",
        "  # find the minimum leght from\n",
        "  # first and last string\n",
        "  end = min(len(a[0]), len(a[size - 1]))\n",
        "\n",
        "  # find the common prefix between\n",
        "  # the first and last string\n",
        "  i = 0\n",
        "  while (i < end and\n",
        "         a[0][i] == a[size - 1][i]):\n",
        "    i += 1\n",
        "\n",
        "  pre = a[0][0 : i]\n",
        "  return pre\n",
        "\n",
        "arr=[\"geeksforgeeks\",\"geeks\",\"geek\",\"geezer\"]\n",
        "result=longestCommonPrefix(arr)\n",
        "print(result)"
      ],
      "metadata": {
        "colab": {
          "base_uri": "https://localhost:8080/"
        },
        "id": "EQfIj5QwbcM-",
        "outputId": "6ecb91e2-2209-4793-deb8-d2bd17e5df80"
      },
      "execution_count": null,
      "outputs": [
        {
          "output_type": "stream",
          "name": "stdout",
          "text": [
            "gee\n"
          ]
        }
      ]
    },
    {
      "cell_type": "code",
      "source": [
        "arr=[\"apple\",\"ape\",\"april\"]\n",
        "result=longestCommonPrefix(arr)\n",
        "print(result)"
      ],
      "metadata": {
        "colab": {
          "base_uri": "https://localhost:8080/"
        },
        "id": "iowBEwmddJTi",
        "outputId": "99d71a81-73ec-4adc-ce3e-509d356953aa"
      },
      "execution_count": null,
      "outputs": [
        {
          "output_type": "stream",
          "name": "stdout",
          "text": [
            "ap\n"
          ]
        }
      ]
    },
    {
      "cell_type": "code",
      "source": [
        "# Median dari dua array dengan divide dan conquer\n",
        "\n",
        "def medianOfArray(arr1,arr2,n):\n",
        "  m1=-1\n",
        "  m2=-1\n",
        "  count=0\n",
        "  i=j=0\n",
        "  while count<n+1:\n",
        "    count+=1\n",
        "    if i==n:\n",
        "      m1=m2\n",
        "      m2=arr2[0]\n",
        "      break\n",
        "    if j==n:\n",
        "      m1=m2\n",
        "      m2=arr[0]\n",
        "      break\n",
        "    if arr1[i]<arr2[j]:\n",
        "      m1=m2\n",
        "      m2=arr1[i]\n",
        "      i+=1\n",
        "    else:\n",
        "      m1=m2\n",
        "      m2=arr2[j]\n",
        "      j+=1\n",
        "  return (m1+m2)//2\n",
        "\n",
        "arr1=[1, 12, 15, 26, 38]\n",
        "arr2=[2, 13, 17, 30, 45]\n",
        "\n",
        "print(medianOfArray(arr1,arr2,len(arr1)))"
      ],
      "metadata": {
        "colab": {
          "base_uri": "https://localhost:8080/"
        },
        "id": "4JjulJzIdWCb",
        "outputId": "66416094-3e58-4a42-b951-10e7aa31cefc"
      },
      "execution_count": null,
      "outputs": [
        {
          "output_type": "stream",
          "name": "stdout",
          "text": [
            "16\n"
          ]
        }
      ]
    },
    {
      "cell_type": "code",
      "source": [
        "def Solution(arr):\n",
        "  n = len(arr)\n",
        "  if n % 2 == 0:\n",
        "    z = n // 2\n",
        "    e = arr[n]\n",
        "    q = arr[z - 1]\n",
        "    ans = ( e + q) / 2\n",
        "    return ans\n",
        "\n",
        "  else:\n",
        "    z = n // 2\n",
        "    ans = arr[z]\n",
        "    return ans\n",
        "\n",
        "arr1 = [-5, 3, 6, 12, 15]\n",
        "arr2 = [-12, -10, -6, -3, 4, 10]\n",
        "arr3 = arr1 + arr2\n",
        "arr3.sort()\n",
        "print(\"Median = \", Solution(arr3))"
      ],
      "metadata": {
        "colab": {
          "base_uri": "https://localhost:8080/"
        },
        "id": "09bsC1-Xet_r",
        "outputId": "f355af93-fc66-409a-901d-884dc9501d1c"
      },
      "execution_count": null,
      "outputs": [
        {
          "output_type": "stream",
          "name": "stdout",
          "text": [
            "Median =  3\n"
          ]
        }
      ]
    },
    {
      "cell_type": "code",
      "source": [
        "def floorSorted(arr,low,high,x):\n",
        "  if low>high:\n",
        "    return -1\n",
        "\n",
        "  if arr[low]>x:\n",
        "    return -1\n",
        "\n",
        "  if arr[high]<=x:\n",
        "    return arr[high]\n",
        "\n",
        "  mid=(low+high)//2\n",
        "\n",
        "  if arr[mid]==x:\n",
        "    return arr[mid]\n",
        "\n",
        "  if mid>0 and x>=arr[mid-1] and arr[mid]>x:\n",
        "    return arr[mid-1]\n",
        "\n",
        "  if mid<high and x<arr[mid+1] and x>=arr[mid]:\n",
        "    return arr[mid]\n",
        "\n",
        "  if x>arr[mid]:\n",
        "    return floorSorted(arr,mid+1,high,x)\n",
        "\n",
        "  else:\n",
        "    return floorSorted(arr,low,mid-1,x)\n",
        "\n",
        "arr=[1, 2, 8, 10, 12, 14, 19]\n",
        "x=5\n",
        "print(floorSorted(arr,0,len(arr)-1,x))"
      ],
      "metadata": {
        "colab": {
          "base_uri": "https://localhost:8080/"
        },
        "id": "HDHT5iSgfIxS",
        "outputId": "1dd0d3f4-1a23-4d55-b288-bc97c750508b"
      },
      "execution_count": null,
      "outputs": [
        {
          "output_type": "stream",
          "name": "stdout",
          "text": [
            "2\n"
          ]
        }
      ]
    },
    {
      "cell_type": "code",
      "source": [
        "arr=[2, 5, 6, 7, 8, 9]\n",
        "x = 9\n",
        "def closestNumber(arr,low,high,x):\n",
        "    if low>high:\n",
        "        return -1\n",
        "    if arr[high]<=x:\n",
        "        return arr[high]\n",
        "    if arr[low]>=x:\n",
        "        return arr[mid]\n",
        "    abs_mid=abs(arr[mid-1]-x)\n",
        "    if mid>0:\n",
        "        abs_left=abs(arr[mid-1]-x)\n",
        "        if abs_left<abs_mid:\n",
        "            return closestNumber(arr,low,mid-1,x)\n",
        "        if mid<high:\n",
        "            abs_right=abs(arr[mid+1], high,x)\n",
        "            if abs_right<abs_mid:\n",
        "                return closestNumber(arr, mid+1, high,x)\n",
        "#print ('after')\n",
        "        return arr[mid]\n",
        "print(closestNumber(arr,0,len(arr)-1,x))"
      ],
      "metadata": {
        "colab": {
          "base_uri": "https://localhost:8080/"
        },
        "id": "QujAxJiTynjx",
        "outputId": "2108e5b7-4df5-487e-f154-6460d5e0b0b1"
      },
      "execution_count": 36,
      "outputs": [
        {
          "output_type": "stream",
          "name": "stdout",
          "text": [
            "9\n"
          ]
        }
      ]
    },
    {
      "cell_type": "code",
      "source": [
        "def find_closest(lst, k):\n",
        "    lst.sort()\n",
        "    closest_num = lst[0]\n",
        "    for num in lst:\n",
        "        if abs(num - k) < abs(closest_num - k):\n",
        "            closest_num = num\n",
        "        if num > k:\n",
        "            break\n",
        "    return closest_num\n",
        "\n",
        "lst = [3.64, 5.2, 9.42, 9.35, 8.5, 8]\n",
        "k = 9.1\n",
        "print(find_closest(lst, k))\n"
      ],
      "metadata": {
        "colab": {
          "base_uri": "https://localhost:8080/"
        },
        "id": "9ztJiyIpzfts",
        "outputId": "690be46a-0267-4ab6-e72a-8d008bac4c5d"
      },
      "execution_count": 37,
      "outputs": [
        {
          "output_type": "stream",
          "name": "stdout",
          "text": [
            "9.35\n"
          ]
        }
      ]
    },
    {
      "cell_type": "code",
      "source": [
        "lst = [2, 5, 5, 7, 8, 8, 9]\n",
        "k = 6\n",
        "print(find_closest(lst, k))"
      ],
      "metadata": {
        "colab": {
          "base_uri": "https://localhost:8080/"
        },
        "id": "iqBXzyAl1WEe",
        "outputId": "d064ed82-fb19-4f1d-b54d-e805cd37bd4a"
      },
      "execution_count": 43,
      "outputs": [
        {
          "output_type": "stream",
          "name": "stdout",
          "text": [
            "5\n"
          ]
        }
      ]
    },
    {
      "cell_type": "code",
      "source": [
        "def fixedPoint(arr,low,high):\n",
        "  if low>high:\n",
        "    return -1\n",
        "  if arr[high]==high:\n",
        "    return arr[high]\n",
        "  if arr[low]==low:\n",
        "    return arr[low]\n",
        "  mid=(low+high)//2\n",
        "  if arr[mid]==mid:\n",
        "    return arr[mid]\n",
        "  if mid>arr[mid]:\n",
        "    return fixedPoint(arr,mid+1,high)\n",
        "  else:\n",
        "    return fixedPoint(arr,low,mid-1)\n",
        "\n",
        "arr=[9, 1, 4, 5, 2]\n",
        "print(fixedPoint(arr,0,len(arr)-1))"
      ],
      "metadata": {
        "colab": {
          "base_uri": "https://localhost:8080/"
        },
        "id": "OAAMRI7YtPCb",
        "outputId": "1275e8c6-cb93-4e3e-9c24-b1c87f122aef"
      },
      "execution_count": 35,
      "outputs": [
        {
          "output_type": "stream",
          "name": "stdout",
          "text": [
            "1\n"
          ]
        }
      ]
    }
  ]
}